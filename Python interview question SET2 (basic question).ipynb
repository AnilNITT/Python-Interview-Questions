{
 "cells": [
  {
   "cell_type": "markdown",
   "metadata": {},
   "source": [
    "## Descriptive/Vocabulary Questions"
   ]
  },
  {
   "cell_type": "code",
   "execution_count": null,
   "metadata": {},
   "outputs": [],
   "source": [
    "1. What is Python?\n",
    "\n",
    "2. Describe some features of Python.\n",
    "\n",
    "3. How does Python execute code?\n",
    "\n",
    "4. What are some built-in types in Python?\n",
    "\n",
    "5. What are bindings, i.e., what does it mean for a value to be bound to a variable?"
   ]
  },
  {
   "cell_type": "markdown",
   "metadata": {},
   "source": [
    "## Usage Questions"
   ]
  },
  {
   "cell_type": "code",
   "execution_count": null,
   "metadata": {},
   "outputs": [],
   "source": [
    "1. How do you create a list?\n",
    "\n",
    "2. How do you create a dictionary?\n",
    "\n",
    "3. What is a list comprehension? Why would you use one?\n",
    "\n",
    "4. What is a generator? What can it be used for?\n",
    "\n",
    "5. What is inheritance?\n",
    "\n",
    "6. What happens if you have an error in an init statement?\n",
    "\n",
    "7. What happens in python if you try to divide by zero?\n",
    "\n",
    "8. How can you improve the following code?\n",
    "\n",
    "import string\n",
    "i = 0\n",
    "for letter in string.letters:\n",
    "    print(\"The letter at index %i is %s\" % (i, letter))\n",
    "    i = i + 1\n",
    "Bonus points for mentioning enumerate and use of str.format.\n",
    "\n",
    "9. How can you return multiple values from a function/method?"
   ]
  },
  {
   "cell_type": "markdown",
   "metadata": {},
   "source": [
    "## Strategic Questions"
   ]
  },
  {
   "cell_type": "code",
   "execution_count": null,
   "metadata": {},
   "outputs": [],
   "source": [
    "1. What's the fastest way to swap the values bound to two variables?\n",
    "\n",
    "2. What is the importance of reference counting?\n",
    "\n",
    "3. Do functions (or methods) return something even if there isn't a return statement? If so, what do they return?\n",
    "\n",
    "4. How do you reverse a list? Can you come up with at least three ways?\n",
    "\n",
    "5. How would you merge two sorted lists? They can be any length, or empty.\n",
    "\n",
    "6. How would you count the lines in a file? How would you do it if the file was too big to hold in memory?"
   ]
  }
 ],
 "metadata": {
  "kernelspec": {
   "display_name": "Python 3",
   "language": "python",
   "name": "python3"
  },
  "language_info": {
   "codemirror_mode": {
    "name": "ipython",
    "version": 3
   },
   "file_extension": ".py",
   "mimetype": "text/x-python",
   "name": "python",
   "nbconvert_exporter": "python",
   "pygments_lexer": "ipython3",
   "version": "3.7.4"
  }
 },
 "nbformat": 4,
 "nbformat_minor": 4
}
