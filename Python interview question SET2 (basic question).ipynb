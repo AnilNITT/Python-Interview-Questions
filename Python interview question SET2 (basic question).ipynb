{
 "cells": [
  {
   "cell_type": "markdown",
   "metadata": {},
   "source": [
    "## Descriptive/Vocabulary Questions"
   ]
  },
  {
   "cell_type": "code",
   "execution_count": null,
   "metadata": {},
   "outputs": [],
   "source": [
    "1. What is Python?\n",
    "\n",
    "2. Describe some features of Python.\n",
    "\n",
    "3. How does Python execute code?\n",
    "\n",
    "4. What are some built-in types in Python?\n",
    "\n",
    "5. What are bindings, i.e., what does it mean for a value to be bound to a variable?"
   ]
  },
  {
   "cell_type": "markdown",
   "metadata": {},
   "source": [
    "## Usage Questions"
   ]
  },
  {
   "cell_type": "code",
   "execution_count": null,
   "metadata": {},
   "outputs": [],
   "source": [
    "How do you create a list?\n",
    "\n",
    "How do you create a dictionary?\n",
    "\n",
    "What is a list comprehension? Why would you use one?\n",
    "\n",
    "What is a generator? What can it be used for?\n",
    "\n",
    "What is inheritance?\n",
    "\n",
    "What happens if you have an error in an init statement?\n",
    "\n",
    "What happens in python if you try to divide by zero?"
   ]
  }
 ],
 "metadata": {
  "kernelspec": {
   "display_name": "Python 3",
   "language": "python",
   "name": "python3"
  },
  "language_info": {
   "codemirror_mode": {
    "name": "ipython",
    "version": 3
   },
   "file_extension": ".py",
   "mimetype": "text/x-python",
   "name": "python",
   "nbconvert_exporter": "python",
   "pygments_lexer": "ipython3",
   "version": "3.7.4"
  }
 },
 "nbformat": 4,
 "nbformat_minor": 4
}
